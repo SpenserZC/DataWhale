{
 "cells": [
  {
   "cell_type": "code",
   "execution_count": 1,
   "metadata": {},
   "outputs": [],
   "source": [
    "from pyspark.ml.linalg import Vector,Vectors\n",
    "from pyspark.sql import Row\n",
    "from pyspark.ml import Pipeline\n",
    "from pyspark.ml.feature import IndexToString,StringIndexer,VectorIndexer"
   ]
  },
  {
   "cell_type": "code",
   "execution_count": 2,
   "metadata": {},
   "outputs": [],
   "source": [
    "def f(x):\n",
    "    rel = {}\n",
    "    rel['features'] = Vectors.dense(float(x[0]),float(x[1]),float(x[2]),float(x[3]))\n",
    "    rel['label'] = str(x[4])\n",
    "    return rel"
   ]
  },
  {
   "cell_type": "code",
   "execution_count": 3,
   "metadata": {},
   "outputs": [],
   "source": [
    "from pyspark.sql import SparkSession"
   ]
  },
  {
   "cell_type": "code",
   "execution_count": 4,
   "metadata": {},
   "outputs": [],
   "source": [
    "spark = SparkSession.builder.master(\"local\").appName(\"DecisionTree\").getOrCreate()"
   ]
  },
  {
   "cell_type": "code",
   "execution_count": 5,
   "metadata": {},
   "outputs": [],
   "source": [
    "data = spark.sparkContext.textFile(\"dataset/iris.txt\").map(lambda line: line.split(',')).map(lambda p: Row(**f(p))).toDF()"
   ]
  },
  {
   "cell_type": "code",
   "execution_count": 6,
   "metadata": {},
   "outputs": [],
   "source": [
    "data.createOrReplaceTempView('iris')"
   ]
  },
  {
   "cell_type": "code",
   "execution_count": 7,
   "metadata": {},
   "outputs": [],
   "source": [
    "df= spark.sql(\"select * from iris\")"
   ]
  },
  {
   "cell_type": "code",
   "execution_count": 8,
   "metadata": {},
   "outputs": [],
   "source": [
    "rel = df.rdd.map(lambda t : str(t[1])+\":\"+str(t[0])).collect()"
   ]
  },
  {
   "cell_type": "code",
   "execution_count": 9,
   "metadata": {},
   "outputs": [
    {
     "name": "stdout",
     "output_type": "stream",
     "text": [
      "Iris-setosa:[5.1,3.5,1.4,0.2]\n",
      "Iris-setosa:[4.9,3.0,1.4,0.2]\n",
      "Iris-setosa:[4.7,3.2,1.3,0.2]\n",
      "Iris-setosa:[4.6,3.1,1.5,0.2]\n",
      "Iris-setosa:[5.0,3.6,1.4,0.2]\n",
      "Iris-setosa:[5.4,3.9,1.7,0.4]\n",
      "Iris-setosa:[4.6,3.4,1.4,0.3]\n",
      "Iris-setosa:[5.0,3.4,1.5,0.2]\n",
      "Iris-setosa:[4.4,2.9,1.4,0.2]\n",
      "Iris-setosa:[4.9,3.1,1.5,0.1]\n",
      "Iris-setosa:[5.4,3.7,1.5,0.2]\n",
      "Iris-setosa:[4.8,3.4,1.6,0.2]\n",
      "Iris-setosa:[4.8,3.0,1.4,0.1]\n",
      "Iris-setosa:[4.3,3.0,1.1,0.1]\n",
      "Iris-setosa:[5.8,4.0,1.2,0.2]\n",
      "Iris-setosa:[5.7,4.4,1.5,0.4]\n",
      "Iris-setosa:[5.4,3.9,1.3,0.4]\n",
      "Iris-setosa:[5.1,3.5,1.4,0.3]\n",
      "Iris-setosa:[5.7,3.8,1.7,0.3]\n",
      "Iris-setosa:[5.1,3.8,1.5,0.3]\n",
      "Iris-setosa:[5.4,3.4,1.7,0.2]\n",
      "Iris-setosa:[5.1,3.7,1.5,0.4]\n",
      "Iris-setosa:[4.6,3.6,1.0,0.2]\n",
      "Iris-setosa:[5.1,3.3,1.7,0.5]\n",
      "Iris-setosa:[4.8,3.4,1.9,0.2]\n",
      "Iris-setosa:[5.0,3.0,1.6,0.2]\n",
      "Iris-setosa:[5.0,3.4,1.6,0.4]\n",
      "Iris-setosa:[5.2,3.5,1.5,0.2]\n",
      "Iris-setosa:[5.2,3.4,1.4,0.2]\n",
      "Iris-setosa:[4.7,3.2,1.6,0.2]\n",
      "Iris-setosa:[4.8,3.1,1.6,0.2]\n",
      "Iris-setosa:[5.4,3.4,1.5,0.4]\n",
      "Iris-setosa:[5.2,4.1,1.5,0.1]\n",
      "Iris-setosa:[5.5,4.2,1.4,0.2]\n",
      "Iris-setosa:[4.9,3.1,1.5,0.1]\n",
      "Iris-setosa:[5.0,3.2,1.2,0.2]\n",
      "Iris-setosa:[5.5,3.5,1.3,0.2]\n",
      "Iris-setosa:[4.9,3.1,1.5,0.1]\n",
      "Iris-setosa:[4.4,3.0,1.3,0.2]\n",
      "Iris-setosa:[5.1,3.4,1.5,0.2]\n",
      "Iris-setosa:[5.0,3.5,1.3,0.3]\n",
      "Iris-setosa:[4.5,2.3,1.3,0.3]\n",
      "Iris-setosa:[4.4,3.2,1.3,0.2]\n",
      "Iris-setosa:[5.0,3.5,1.6,0.6]\n",
      "Iris-setosa:[5.1,3.8,1.9,0.4]\n",
      "Iris-setosa:[4.8,3.0,1.4,0.3]\n",
      "Iris-setosa:[5.1,3.8,1.6,0.2]\n",
      "Iris-setosa:[4.6,3.2,1.4,0.2]\n",
      "Iris-setosa:[5.3,3.7,1.5,0.2]\n",
      "Iris-setosa:[5.0,3.3,1.4,0.2]\n",
      "Iris-versicolor:[7.0,3.2,4.7,1.4]\n",
      "Iris-versicolor:[6.4,3.2,4.5,1.5]\n",
      "Iris-versicolor:[6.9,3.1,4.9,1.5]\n",
      "Iris-versicolor:[5.5,2.3,4.0,1.3]\n",
      "Iris-versicolor:[6.5,2.8,4.6,1.5]\n",
      "Iris-versicolor:[5.7,2.8,4.5,1.3]\n",
      "Iris-versicolor:[6.3,3.3,4.7,1.6]\n",
      "Iris-versicolor:[4.9,2.4,3.3,1.0]\n",
      "Iris-versicolor:[6.6,2.9,4.6,1.3]\n",
      "Iris-versicolor:[5.2,2.7,3.9,1.4]\n",
      "Iris-versicolor:[5.0,2.0,3.5,1.0]\n",
      "Iris-versicolor:[5.9,3.0,4.2,1.5]\n",
      "Iris-versicolor:[6.0,2.2,4.0,1.0]\n",
      "Iris-versicolor:[6.1,2.9,4.7,1.4]\n",
      "Iris-versicolor:[5.6,2.9,3.6,1.3]\n",
      "Iris-versicolor:[6.7,3.1,4.4,1.4]\n",
      "Iris-versicolor:[5.6,3.0,4.5,1.5]\n",
      "Iris-versicolor:[5.8,2.7,4.1,1.0]\n",
      "Iris-versicolor:[6.2,2.2,4.5,1.5]\n",
      "Iris-versicolor:[5.6,2.5,3.9,1.1]\n",
      "Iris-versicolor:[5.9,3.2,4.8,1.8]\n",
      "Iris-versicolor:[6.1,2.8,4.0,1.3]\n",
      "Iris-versicolor:[6.3,2.5,4.9,1.5]\n",
      "Iris-versicolor:[6.1,2.8,4.7,1.2]\n",
      "Iris-versicolor:[6.4,2.9,4.3,1.3]\n",
      "Iris-versicolor:[6.6,3.0,4.4,1.4]\n",
      "Iris-versicolor:[6.8,2.8,4.8,1.4]\n",
      "Iris-versicolor:[6.7,3.0,5.0,1.7]\n",
      "Iris-versicolor:[6.0,2.9,4.5,1.5]\n",
      "Iris-versicolor:[5.7,2.6,3.5,1.0]\n",
      "Iris-versicolor:[5.5,2.4,3.8,1.1]\n",
      "Iris-versicolor:[5.5,2.4,3.7,1.0]\n",
      "Iris-versicolor:[5.8,2.7,3.9,1.2]\n",
      "Iris-versicolor:[6.0,2.7,5.1,1.6]\n",
      "Iris-versicolor:[5.4,3.0,4.5,1.5]\n",
      "Iris-versicolor:[6.0,3.4,4.5,1.6]\n",
      "Iris-versicolor:[6.7,3.1,4.7,1.5]\n",
      "Iris-versicolor:[6.3,2.3,4.4,1.3]\n",
      "Iris-versicolor:[5.6,3.0,4.1,1.3]\n",
      "Iris-versicolor:[5.5,2.5,4.0,1.3]\n",
      "Iris-versicolor:[5.5,2.6,4.4,1.2]\n",
      "Iris-versicolor:[6.1,3.0,4.6,1.4]\n",
      "Iris-versicolor:[5.8,2.6,4.0,1.2]\n",
      "Iris-versicolor:[5.0,2.3,3.3,1.0]\n",
      "Iris-versicolor:[5.6,2.7,4.2,1.3]\n",
      "Iris-versicolor:[5.7,3.0,4.2,1.2]\n",
      "Iris-versicolor:[5.7,2.9,4.2,1.3]\n",
      "Iris-versicolor:[6.2,2.9,4.3,1.3]\n",
      "Iris-versicolor:[5.1,2.5,3.0,1.1]\n",
      "Iris-versicolor:[5.7,2.8,4.1,1.3]\n",
      "Iris-virginica:[6.3,3.3,6.0,2.5]\n",
      "Iris-virginica:[5.8,2.7,5.1,1.9]\n",
      "Iris-virginica:[7.1,3.0,5.9,2.1]\n",
      "Iris-virginica:[6.3,2.9,5.6,1.8]\n",
      "Iris-virginica:[6.5,3.0,5.8,2.2]\n",
      "Iris-virginica:[7.6,3.0,6.6,2.1]\n",
      "Iris-virginica:[4.9,2.5,4.5,1.7]\n",
      "Iris-virginica:[7.3,2.9,6.3,1.8]\n",
      "Iris-virginica:[6.7,2.5,5.8,1.8]\n",
      "Iris-virginica:[7.2,3.6,6.1,2.5]\n",
      "Iris-virginica:[6.5,3.2,5.1,2.0]\n",
      "Iris-virginica:[6.4,2.7,5.3,1.9]\n",
      "Iris-virginica:[6.8,3.0,5.5,2.1]\n",
      "Iris-virginica:[5.7,2.5,5.0,2.0]\n",
      "Iris-virginica:[5.8,2.8,5.1,2.4]\n",
      "Iris-virginica:[6.4,3.2,5.3,2.3]\n",
      "Iris-virginica:[6.5,3.0,5.5,1.8]\n",
      "Iris-virginica:[7.7,3.8,6.7,2.2]\n",
      "Iris-virginica:[7.7,2.6,6.9,2.3]\n",
      "Iris-virginica:[6.0,2.2,5.0,1.5]\n",
      "Iris-virginica:[6.9,3.2,5.7,2.3]\n",
      "Iris-virginica:[5.6,2.8,4.9,2.0]\n",
      "Iris-virginica:[7.7,2.8,6.7,2.0]\n",
      "Iris-virginica:[6.3,2.7,4.9,1.8]\n",
      "Iris-virginica:[6.7,3.3,5.7,2.1]\n",
      "Iris-virginica:[7.2,3.2,6.0,1.8]\n",
      "Iris-virginica:[6.2,2.8,4.8,1.8]\n",
      "Iris-virginica:[6.1,3.0,4.9,1.8]\n",
      "Iris-virginica:[6.4,2.8,5.6,2.1]\n",
      "Iris-virginica:[7.2,3.0,5.8,1.6]\n",
      "Iris-virginica:[7.4,2.8,6.1,1.9]\n",
      "Iris-virginica:[7.9,3.8,6.4,2.0]\n",
      "Iris-virginica:[6.4,2.8,5.6,2.2]\n",
      "Iris-virginica:[6.3,2.8,5.1,1.5]\n",
      "Iris-virginica:[6.1,2.6,5.6,1.4]\n",
      "Iris-virginica:[7.7,3.0,6.1,2.3]\n",
      "Iris-virginica:[6.3,3.4,5.6,2.4]\n",
      "Iris-virginica:[6.4,3.1,5.5,1.8]\n",
      "Iris-virginica:[6.0,3.0,4.8,1.8]\n",
      "Iris-virginica:[6.9,3.1,5.4,2.1]\n",
      "Iris-virginica:[6.7,3.1,5.6,2.4]\n",
      "Iris-virginica:[6.9,3.1,5.1,2.3]\n",
      "Iris-virginica:[5.8,2.7,5.1,1.9]\n",
      "Iris-virginica:[6.8,3.2,5.9,2.3]\n",
      "Iris-virginica:[6.7,3.3,5.7,2.5]\n",
      "Iris-virginica:[6.7,3.0,5.2,2.3]\n",
      "Iris-virginica:[6.3,2.5,5.0,1.9]\n",
      "Iris-virginica:[6.5,3.0,5.2,2.0]\n",
      "Iris-virginica:[6.2,3.4,5.4,2.3]\n",
      "Iris-virginica:[5.9,3.0,5.1,1.8]\n"
     ]
    }
   ],
   "source": [
    "for item in rel:\n",
    "    print(item)"
   ]
  },
  {
   "cell_type": "code",
   "execution_count": 10,
   "metadata": {},
   "outputs": [],
   "source": [
    "labelIndexer = StringIndexer().setInputCol(\"label\").setOutputCol(\"indexedLabel\").fit(df)\n",
    "featureIndexer = VectorIndexer().setInputCol(\"features\").setOutputCol(\"indexedFeatures\").setMaxCategories(4).fit(df)"
   ]
  },
  {
   "cell_type": "code",
   "execution_count": 11,
   "metadata": {},
   "outputs": [],
   "source": [
    "labelConverter = IndexToString().setInputCol(\"prediction\").setOutputCol(\"predictedLabel\").setLabels(labelIndexer.labels)\n",
    "trainingData,testData = data.randomSplit([0.7,0.3])"
   ]
  },
  {
   "cell_type": "code",
   "execution_count": 12,
   "metadata": {},
   "outputs": [],
   "source": [
    "from pyspark.ml.classification import DecisionTreeClassificationModel,DecisionTreeClassifier\n",
    "from pyspark.ml.evaluation import MulticlassClassificationEvaluator"
   ]
  },
  {
   "cell_type": "code",
   "execution_count": 13,
   "metadata": {},
   "outputs": [],
   "source": [
    "dtClassifier = DecisionTreeClassifier().setLabelCol(\"indexedLabel\").setFeaturesCol(\"indexedFeatures\")\n",
    "pipelinedClassifier = Pipeline().setStages([labelIndexer, featureIndexer, dtClassifier, labelConverter])"
   ]
  },
  {
   "cell_type": "code",
   "execution_count": 14,
   "metadata": {},
   "outputs": [],
   "source": [
    "modelClassifier = pipelinedClassifier.fit(trainingData)"
   ]
  },
  {
   "cell_type": "code",
   "execution_count": 15,
   "metadata": {},
   "outputs": [],
   "source": [
    "predictionsClassifier = modelClassifier.transform(testData)"
   ]
  },
  {
   "cell_type": "code",
   "execution_count": 16,
   "metadata": {},
   "outputs": [
    {
     "name": "stdout",
     "output_type": "stream",
     "text": [
      "+---------------+---------------+-----------------+\n",
      "| predictedLabel|          label|         features|\n",
      "+---------------+---------------+-----------------+\n",
      "|    Iris-setosa|    Iris-setosa|[4.4,3.2,1.3,0.2]|\n",
      "|    Iris-setosa|    Iris-setosa|[4.6,3.4,1.4,0.3]|\n",
      "|    Iris-setosa|    Iris-setosa|[4.6,3.6,1.0,0.2]|\n",
      "|    Iris-setosa|    Iris-setosa|[4.7,3.2,1.6,0.2]|\n",
      "|    Iris-setosa|    Iris-setosa|[4.8,3.0,1.4,0.1]|\n",
      "|    Iris-setosa|    Iris-setosa|[4.8,3.4,1.6,0.2]|\n",
      "|    Iris-setosa|    Iris-setosa|[4.8,3.4,1.9,0.2]|\n",
      "|Iris-versicolor|Iris-versicolor|[5.0,2.0,3.5,1.0]|\n",
      "|    Iris-setosa|    Iris-setosa|[5.0,3.6,1.4,0.2]|\n",
      "|    Iris-setosa|    Iris-setosa|[5.1,3.7,1.5,0.4]|\n",
      "|    Iris-setosa|    Iris-setosa|[5.1,3.8,1.9,0.4]|\n",
      "|    Iris-setosa|    Iris-setosa|[5.2,3.5,1.5,0.2]|\n",
      "|    Iris-setosa|    Iris-setosa|[5.2,4.1,1.5,0.1]|\n",
      "|    Iris-setosa|    Iris-setosa|[5.3,3.7,1.5,0.2]|\n",
      "|    Iris-setosa|    Iris-setosa|[5.4,3.4,1.7,0.2]|\n",
      "|Iris-versicolor|Iris-versicolor|[5.5,2.3,4.0,1.3]|\n",
      "|Iris-versicolor|Iris-versicolor|[5.5,2.5,4.0,1.3]|\n",
      "|    Iris-setosa|    Iris-setosa|[5.5,3.5,1.3,0.2]|\n",
      "| Iris-virginica| Iris-virginica|[5.6,2.8,4.9,2.0]|\n",
      "|Iris-versicolor|Iris-versicolor|[5.7,2.8,4.1,1.3]|\n",
      "+---------------+---------------+-----------------+\n",
      "only showing top 20 rows\n",
      "\n"
     ]
    }
   ],
   "source": [
    "predictionsClassifier.select(\"predictedLabel\", \"label\", \"features\").show(20)"
   ]
  },
  {
   "cell_type": "code",
   "execution_count": 17,
   "metadata": {},
   "outputs": [],
   "source": [
    "evaluatorClassifier = MulticlassClassificationEvaluator().setLabelCol(\"indexedLabel\").setPredictionCol(\"prediction\").setMetricName(\"accuracy\")"
   ]
  },
  {
   "cell_type": "code",
   "execution_count": 18,
   "metadata": {},
   "outputs": [],
   "source": [
    "accuracy = evaluatorClassifier.evaluate(predictionsClassifier)"
   ]
  },
  {
   "cell_type": "code",
   "execution_count": 19,
   "metadata": {},
   "outputs": [
    {
     "name": "stdout",
     "output_type": "stream",
     "text": [
      "Test Error = 0.0888888888888889\n"
     ]
    }
   ],
   "source": [
    "print(\"Test Error = \" + str(1.0 - accuracy))"
   ]
  },
  {
   "cell_type": "code",
   "execution_count": 20,
   "metadata": {},
   "outputs": [],
   "source": [
    "treeModelClassifier = modelClassifier.stages[2]"
   ]
  },
  {
   "cell_type": "code",
   "execution_count": 21,
   "metadata": {},
   "outputs": [
    {
     "name": "stdout",
     "output_type": "stream",
     "text": [
      "Learned classification tree model:\n",
      "DecisionTreeClassificationModel (uid=DecisionTreeClassifier_329e7119b04d) of depth 5 with 13 nodes\n",
      "  If (feature 2 <= 2.35)\n",
      "   Predict: 0.0\n",
      "  Else (feature 2 > 2.35)\n",
      "   If (feature 2 <= 4.75)\n",
      "    If (feature 3 <= 1.55)\n",
      "     Predict: 1.0\n",
      "    Else (feature 3 > 1.55)\n",
      "     Predict: 2.0\n",
      "   Else (feature 2 > 4.75)\n",
      "    If (feature 3 <= 1.75)\n",
      "     If (feature 1 <= 2.6500000000000004)\n",
      "      Predict: 2.0\n",
      "     Else (feature 1 > 2.6500000000000004)\n",
      "      If (feature 2 <= 5.05)\n",
      "       Predict: 1.0\n",
      "      Else (feature 2 > 5.05)\n",
      "       Predict: 2.0\n",
      "    Else (feature 3 > 1.75)\n",
      "     Predict: 2.0\n",
      "\n"
     ]
    }
   ],
   "source": [
    "print(\"Learned classification tree model:\\n\" + str(treeModelClassifier.toDebugString))"
   ]
  },
  {
   "cell_type": "code",
   "execution_count": 22,
   "metadata": {},
   "outputs": [],
   "source": [
    "from pyspark.ml.regression import DecisionTreeRegressionModel,DecisionTreeRegressor\n",
    "from pyspark.ml.evaluation import RegressionEvaluator"
   ]
  },
  {
   "cell_type": "code",
   "execution_count": 23,
   "metadata": {},
   "outputs": [],
   "source": [
    "dtRegressor = DecisionTreeRegressor().setLabelCol(\"indexedLabel\").setFeaturesCol(\"indexedFeatures\")"
   ]
  },
  {
   "cell_type": "code",
   "execution_count": 24,
   "metadata": {},
   "outputs": [],
   "source": [
    "pipelineRegressor = Pipeline().setStages([labelIndexer, featureIndexer, dtRegressor, labelConverter])"
   ]
  },
  {
   "cell_type": "code",
   "execution_count": 25,
   "metadata": {},
   "outputs": [
    {
     "name": "stdout",
     "output_type": "stream",
     "text": [
      "+---------------+---------------+-----------------+\n",
      "| predictedLabel|          label|         features|\n",
      "+---------------+---------------+-----------------+\n",
      "|    Iris-setosa|    Iris-setosa|[4.4,3.2,1.3,0.2]|\n",
      "|    Iris-setosa|    Iris-setosa|[4.6,3.4,1.4,0.3]|\n",
      "|    Iris-setosa|    Iris-setosa|[4.6,3.6,1.0,0.2]|\n",
      "|    Iris-setosa|    Iris-setosa|[4.7,3.2,1.6,0.2]|\n",
      "|    Iris-setosa|    Iris-setosa|[4.8,3.0,1.4,0.1]|\n",
      "|    Iris-setosa|    Iris-setosa|[4.8,3.4,1.6,0.2]|\n",
      "|    Iris-setosa|    Iris-setosa|[4.8,3.4,1.9,0.2]|\n",
      "|Iris-versicolor|Iris-versicolor|[5.0,2.0,3.5,1.0]|\n",
      "|    Iris-setosa|    Iris-setosa|[5.0,3.6,1.4,0.2]|\n",
      "|    Iris-setosa|    Iris-setosa|[5.1,3.7,1.5,0.4]|\n",
      "|    Iris-setosa|    Iris-setosa|[5.1,3.8,1.9,0.4]|\n",
      "|    Iris-setosa|    Iris-setosa|[5.2,3.5,1.5,0.2]|\n",
      "|    Iris-setosa|    Iris-setosa|[5.2,4.1,1.5,0.1]|\n",
      "|    Iris-setosa|    Iris-setosa|[5.3,3.7,1.5,0.2]|\n",
      "|    Iris-setosa|    Iris-setosa|[5.4,3.4,1.7,0.2]|\n",
      "|Iris-versicolor|Iris-versicolor|[5.5,2.3,4.0,1.3]|\n",
      "|Iris-versicolor|Iris-versicolor|[5.5,2.5,4.0,1.3]|\n",
      "|    Iris-setosa|    Iris-setosa|[5.5,3.5,1.3,0.2]|\n",
      "| Iris-virginica| Iris-virginica|[5.6,2.8,4.9,2.0]|\n",
      "|Iris-versicolor|Iris-versicolor|[5.7,2.8,4.1,1.3]|\n",
      "+---------------+---------------+-----------------+\n",
      "only showing top 20 rows\n",
      "\n"
     ]
    }
   ],
   "source": [
    "modelRegressor = pipelineRegressor.fit(trainingData)\n",
    "predictionsRegressor = modelRegressor.transform(testData)\n",
    "predictionsRegressor.select(\"predictedLabel\", \"label\", \"features\").show(20)"
   ]
  },
  {
   "cell_type": "code",
   "execution_count": 26,
   "metadata": {},
   "outputs": [
    {
     "name": "stdout",
     "output_type": "stream",
     "text": [
      "Root Mean Squared Error (RMSE) on test data = 0.29814239699997197\n"
     ]
    }
   ],
   "source": [
    "evaluatorRegressor = RegressionEvaluator().setLabelCol(\"indexedLabel\").setPredictionCol(\"prediction\").setMetricName(\"rmse\")\n",
    "rmse = evaluatorRegressor.evaluate(predictionsRegressor)\n",
    "print(\"Root Mean Squared Error (RMSE) on test data = \" +str(rmse))"
   ]
  },
  {
   "cell_type": "code",
   "execution_count": 27,
   "metadata": {},
   "outputs": [
    {
     "name": "stdout",
     "output_type": "stream",
     "text": [
      "Learned regression tree model:\n",
      "DecisionTreeRegressionModel (uid=DecisionTreeRegressor_a96af1de0628) of depth 5 with 13 nodes\n",
      "  If (feature 2 <= 2.35)\n",
      "   Predict: 0.0\n",
      "  Else (feature 2 > 2.35)\n",
      "   If (feature 2 <= 4.75)\n",
      "    If (feature 3 <= 1.55)\n",
      "     Predict: 1.0\n",
      "    Else (feature 3 > 1.55)\n",
      "     Predict: 2.0\n",
      "   Else (feature 2 > 4.75)\n",
      "    If (feature 3 <= 1.75)\n",
      "     If (feature 1 <= 2.6500000000000004)\n",
      "      Predict: 2.0\n",
      "     Else (feature 1 > 2.6500000000000004)\n",
      "      If (feature 2 <= 5.05)\n",
      "       Predict: 1.0\n",
      "      Else (feature 2 > 5.05)\n",
      "       Predict: 1.6666666666666667\n",
      "    Else (feature 3 > 1.75)\n",
      "     Predict: 2.0\n",
      "\n"
     ]
    }
   ],
   "source": [
    "treeModelRegressor = modelRegressor.stages[2]\n",
    "print(\"Learned regression tree model:\\n\" + str(treeModelRegressor.toDebugString))"
   ]
  },
  {
   "cell_type": "code",
   "execution_count": null,
   "metadata": {},
   "outputs": [],
   "source": []
  }
 ],
 "metadata": {
  "kernelspec": {
   "display_name": "Python 3",
   "language": "python",
   "name": "python3"
  },
  "language_info": {
   "codemirror_mode": {
    "name": "ipython",
    "version": 3
   },
   "file_extension": ".py",
   "mimetype": "text/x-python",
   "name": "python",
   "nbconvert_exporter": "python",
   "pygments_lexer": "ipython3",
   "version": "3.7.3"
  }
 },
 "nbformat": 4,
 "nbformat_minor": 2
}
